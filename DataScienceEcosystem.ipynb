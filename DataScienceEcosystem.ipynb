{
 "cells": [
  {
   "cell_type": "markdown",
   "id": "f6bf1a8f-7988-4ac6-8653-9fb943d7683c",
   "metadata": {},
   "source": [
    "# Data Science Tools and Ecosystem"
   ]
  },
  {
   "cell_type": "markdown",
   "id": "39d8a85f-73c5-4008-8cdf-99b7cb2a4fba",
   "metadata": {},
   "source": [
    "In this notebook, Data Science Tools and Ecosystem are summarized."
   ]
  },
  {
   "cell_type": "markdown",
   "id": "054ce5ca-1d50-402f-a49b-3d9f05151f77",
   "metadata": {},
   "source": [
    "Objectives:\n",
    "- Plotting in RStudio\n",
    "- Branches in Github\n",
    "- Data Sets"
   ]
  },
  {
   "cell_type": "markdown",
   "id": "0fcaf035-7628-42a3-ae78-978cd1343e66",
   "metadata": {},
   "source": [
    "Some of the popular languaged that Data Scientists use are:\n",
    "1. Python\n",
    "2. R\n",
    "3. SQL"
   ]
  },
  {
   "cell_type": "markdown",
   "id": "92ce2985-13da-443d-b4c5-2cd93bde0a52",
   "metadata": {},
   "source": [
    "Some of the commonly used libraries used by Data Scientists include:\n",
    "- NumPy\n",
    "- Pandas\n",
    "- TensorFlow\n"
   ]
  },
  {
   "cell_type": "markdown",
   "id": "1f232eb5-62fd-464a-a4c0-5777b3024808",
   "metadata": {},
   "source": [
    "| Data Science Tools |\n",
    "|--------------------|\n",
    "| Jupyter Notebooks |\n",
    "| VScode |\n",
    "| Spyder |"
   ]
  },
  {
   "cell_type": "markdown",
   "id": "cf319766-04c1-4404-ad9c-4301de54308c",
   "metadata": {},
   "source": [
    "### Below are a few examples of evaluating arithmetic expressions in Python."
   ]
  },
  {
   "cell_type": "code",
   "execution_count": 25,
   "id": "9a244bac-a2ec-49bf-873a-18dad4e6df05",
   "metadata": {},
   "outputs": [
    {
     "data": {
      "text/plain": [
       "17"
      ]
     },
     "execution_count": 25,
     "metadata": {},
     "output_type": "execute_result"
    }
   ],
   "source": [
    "# This is a simple arithmetic expression multiply then add integers.\n",
    "\n",
    "(3*4)+5"
   ]
  },
  {
   "cell_type": "code",
   "execution_count": 31,
   "id": "32adf34b-3842-4dbf-8394-0de29c3586ca",
   "metadata": {},
   "outputs": [
    {
     "data": {
      "text/plain": [
       "3.3333333333333335"
      ]
     },
     "execution_count": 31,
     "metadata": {},
     "output_type": "execute_result"
    }
   ],
   "source": [
    "# This will convert 200 to hours by dividing 60.\n",
    "\n",
    "200/60"
   ]
  },
  {
   "cell_type": "markdown",
   "id": "dd80d304-3541-4cdb-8a79-f1d51d64a3e6",
   "metadata": {},
   "source": [
    "## Author\n",
    " Trevin "
   ]
  },
  {
   "cell_type": "code",
   "execution_count": null,
   "id": "d61166c5-b770-407d-b53a-08788e4192ca",
   "metadata": {},
   "outputs": [],
   "source": []
  }
 ],
 "metadata": {
  "kernelspec": {
   "display_name": "Python [conda env:base] *",
   "language": "python",
   "name": "conda-base-py"
  },
  "language_info": {
   "codemirror_mode": {
    "name": "ipython",
    "version": 3
   },
   "file_extension": ".py",
   "mimetype": "text/x-python",
   "name": "python",
   "nbconvert_exporter": "python",
   "pygments_lexer": "ipython3",
   "version": "3.12.7"
  }
 },
 "nbformat": 4,
 "nbformat_minor": 5
}
